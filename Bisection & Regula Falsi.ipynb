{
 "cells": [
  {
   "cell_type": "code",
   "execution_count": null,
   "id": "30fbe664-3ae7-47c3-ab00-35e2fbf6ada3",
   "metadata": {},
   "outputs": [],
   "source": [
    "# function f(x) = x**3 - x - 2 with intervals [a , b] = [1 , 2]"
   ]
  },
  {
   "cell_type": "code",
   "execution_count": 5,
   "id": "c4bc17b8-6a05-4810-bbe0-dabd14a0b986",
   "metadata": {},
   "outputs": [
    {
     "name": "stdout",
     "output_type": "stream",
     "text": [
      "Iteration |     a     |     b     |    root    |   f(root)\n",
      "---------------------------------------------------------\n",
      "        1 |  1.000000 |  2.000000 |  1.500000 | -0.125000\n",
      "        2 |  1.500000 |  2.000000 |  1.750000 |  1.609375\n",
      "        3 |  1.500000 |  1.750000 |  1.625000 |  0.666016\n",
      "        4 |  1.500000 |  1.625000 |  1.562500 |  0.252197\n",
      "        5 |  1.500000 |  1.562500 |  1.531250 |  0.059113\n",
      "        6 |  1.500000 |  1.531250 |  1.515625 | -0.034054\n",
      "        7 |  1.515625 |  1.531250 |  1.523438 |  0.012250\n",
      "        8 |  1.515625 |  1.523438 |  1.519531 | -0.010971\n",
      "        9 |  1.519531 |  1.523438 |  1.521484 |  0.000622\n",
      "       10 |  1.519531 |  1.521484 |  1.520508 | -0.005179\n",
      "       11 |  1.520508 |  1.521484 |  1.520996 | -0.002279\n",
      "       12 |  1.520996 |  1.521484 |  1.521240 | -0.000829\n",
      "       13 |  1.521240 |  1.521484 |  1.521362 | -0.000103\n",
      "       14 |  1.521362 |  1.521484 |  1.521423 |  0.000259\n",
      "       15 |  1.521362 |  1.521423 |  1.521393 |  0.000078\n",
      "       16 |  1.521362 |  1.521393 |  1.521378 | -0.000013\n",
      "       17 |  1.521378 |  1.521393 |  1.521385 |  0.000033\n",
      "       18 |  1.521378 |  1.521385 |  1.521381 |  0.000010\n",
      "       19 |  1.521378 |  1.521381 |  1.521379 | -0.000001\n",
      "       20 |  1.521379 |  1.521381 |  1.521380 |  0.000004\n",
      "       21 |  1.521379 |  1.521380 |  1.521380 |  0.000001\n",
      "       22 |  1.521379 |  1.521380 |  1.521380 |  0.000000\n",
      "\n",
      "Root found!\n",
      "\n",
      "Bisection Method Root: 1.5213797092437744\n"
     ]
    }
   ],
   "source": [
    "# Bisection Method\n",
    "def bisection_method(f, a, b, tol=1e-6, max_iter=100):\n",
    "    if f(a) * f(b) >= 0:\n",
    "        print(\"The function must have opposite signs at a and b.\")\n",
    "        return None\n",
    "\n",
    "    print(\"Iteration |     a     |     b     |    root    |   f(root)\")\n",
    "    print(\"---------------------------------------------------------\")\n",
    "    for i in range(max_iter):\n",
    "        # Compute the midpoint\n",
    "        root = (a + b) / 2\n",
    "        \n",
    "        # Print iteration details\n",
    "        print(f\"{i+1:9d} | {a:9.6f} | {b:9.6f} | {root:9.6f} | {f(root):9.6f}\")\n",
    "        \n",
    "        # Check if the root is close enough\n",
    "        if abs(f(root)) < tol:\n",
    "            print(\"\\nRoot found!\")\n",
    "            return root\n",
    "        \n",
    "        # Update a or b based on the sign of f(root)\n",
    "        if f(a) * f(root) < 0:\n",
    "            b = root\n",
    "        else:\n",
    "            a = root\n",
    "    \n",
    "    print(\"\\nMaximum iterations reached.\")\n",
    "    return root\n",
    "\n",
    "# function\n",
    "def func(x):\n",
    "    return x**3 - x - 2\n",
    "\n",
    "root_bisection = bisection_method(func, 1, 2)\n",
    "print(\"\\nBisection Method Root:\", root_bisection)\n"
   ]
  },
  {
   "cell_type": "code",
   "execution_count": 4,
   "id": "650b2be4-6c1e-41c1-816f-ad61442ffa83",
   "metadata": {},
   "outputs": [
    {
     "name": "stdout",
     "output_type": "stream",
     "text": [
      "Iteration |     a     |     b     |    root    |   f(root)\n",
      "---------------------------------------------------------\n",
      "        1 |  1.000000 |  2.000000 |  1.333333 | -0.962963\n",
      "        2 |  1.333333 |  2.000000 |  1.462687 | -0.333339\n",
      "        3 |  1.462687 |  2.000000 |  1.504019 | -0.101818\n",
      "        4 |  1.504019 |  2.000000 |  1.516331 | -0.029895\n",
      "        5 |  1.516331 |  2.000000 |  1.519919 | -0.008675\n",
      "        6 |  1.519919 |  2.000000 |  1.520957 | -0.002509\n",
      "        7 |  1.520957 |  2.000000 |  1.521258 | -0.000725\n",
      "        8 |  1.521258 |  2.000000 |  1.521344 | -0.000209\n",
      "        9 |  1.521344 |  2.000000 |  1.521370 | -0.000060\n",
      "       10 |  1.521370 |  2.000000 |  1.521377 | -0.000017\n",
      "       11 |  1.521377 |  2.000000 |  1.521379 | -0.000005\n",
      "       12 |  1.521379 |  2.000000 |  1.521379 | -0.000001\n",
      "       13 |  1.521379 |  2.000000 |  1.521380 | -0.000000\n",
      "\n",
      "Root found!\n",
      "\n",
      "Regula Falsi Root: 1.521379636045493\n"
     ]
    }
   ],
   "source": [
    "# Regula Falsi Method\n",
    "def regula_falsi(f, a, b, tol=1e-6, max_iter=100):\n",
    "    if f(a) * f(b) >= 0:\n",
    "        print(\"The function must have opposite signs at a and b.\")\n",
    "        return None\n",
    "\n",
    "    print(\"Iteration |     a     |     b     |    root    |   f(root)\")\n",
    "    print(\"---------------------------------------------------------\")\n",
    "    for i in range(max_iter):\n",
    "        # Compute the root using the Regula Falsi formula\n",
    "        root = (a * f(b) - b * f(a)) / (f(b) - f(a))\n",
    "        \n",
    "        # Print iteration details\n",
    "        print(f\"{i+1:9d} | {a:9.6f} | {b:9.6f} | {root:9.6f} | {f(root):9.6f}\")\n",
    "        \n",
    "        # Check if the root is close enough to the true value\n",
    "        if abs(f(root)) < tol:\n",
    "            print(\"\\nRoot found!\")\n",
    "            return root\n",
    "        \n",
    "        # Update a or b based on the sign of f(root)\n",
    "        if f(a) * f(root) < 0:\n",
    "            b = root\n",
    "        else:\n",
    "            a = root\n",
    "    \n",
    "    print(\"\\nMaximum iterations reached.\")\n",
    "    return root\n",
    "# function\n",
    "def func(x):\n",
    "    return x**3 - x - 2\n",
    "\n",
    "root_rf = regula_falsi(func, 1, 2)\n",
    "print(\"\\nRegula Falsi Root:\", root_rf)\n"
   ]
  }
 ],
 "metadata": {
  "kernelspec": {
   "display_name": "Python 3 (ipykernel)",
   "language": "python",
   "name": "python3"
  },
  "language_info": {
   "codemirror_mode": {
    "name": "ipython",
    "version": 3
   },
   "file_extension": ".py",
   "mimetype": "text/x-python",
   "name": "python",
   "nbconvert_exporter": "python",
   "pygments_lexer": "ipython3",
   "version": "3.12.4"
  }
 },
 "nbformat": 4,
 "nbformat_minor": 5
}
