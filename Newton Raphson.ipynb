{
 "cells": [
  {
   "cell_type": "code",
   "execution_count": 4,
   "id": "552b3b55-c6a9-4db4-9d3b-63f1a92fe7b5",
   "metadata": {},
   "outputs": [],
   "source": [
    "# function f(x) = x**3 - x - 2 with interval Xn = 1.5"
   ]
  },
  {
   "cell_type": "code",
   "execution_count": 2,
   "id": "d5645aca-0889-4cec-a3a7-ce82851346b1",
   "metadata": {},
   "outputs": [
    {
     "name": "stdout",
     "output_type": "stream",
     "text": [
      "Iteration |     x_n     |   f(x_n)    | f'(x_n)   |  Error\n",
      "---------------------------------------------------------\n",
      "        1 |    1.500000 |   -0.125000 |  5.750000 |  0.021739\n",
      "        2 |    1.521739 |    0.002137 |  5.947070 |  0.000359\n",
      "        3 |    1.521380 |    0.000001 |  5.943790 |  0.000000\n",
      "\n",
      "Root found!\n",
      "\n",
      "Newton-Raphson Root: 1.5213797068045751\n"
     ]
    }
   ],
   "source": [
    "#Newton Raphson\n",
    "def newton_raphson(f, f_prime, x0, tol=1e-6, max_iter=100):\n",
    "    print(\"Iteration |     x_n     |   f(x_n)    | f'(x_n)   |  Error\")\n",
    "    print(\"---------------------------------------------------------\")\n",
    "    \n",
    "    for i in range(max_iter):\n",
    "        # Evaluate the function and its derivative\n",
    "        fx = f(x0)\n",
    "        fpx = f_prime(x0)\n",
    "        \n",
    "        # Check if derivative is zero to prevent division by zero\n",
    "        if fpx == 0:\n",
    "            print(\"Derivative is zero. Stopping iteration.\")\n",
    "            return None\n",
    "        \n",
    "        # Compute the next approximation\n",
    "        x1 = x0 - (fx / fpx)\n",
    "        \n",
    "        # Compute the error\n",
    "        error = abs(x1 - x0)\n",
    "        \n",
    "        # Print the iteration details\n",
    "        print(f\"{i+1:9d} | {x0:11.6f} | {fx:11.6f} | {fpx:9.6f} | {error:9.6f}\")\n",
    "        \n",
    "        # Check if the error is within the tolerance\n",
    "        if error < tol:\n",
    "            print(\"\\nRoot found!\")\n",
    "            return x1\n",
    "        \n",
    "        # Update x0 for the next iteration\n",
    "        x0 = x1\n",
    "    \n",
    "    print(\"\\nMaximum iterations reached.\")\n",
    "    return x0\n",
    "\n",
    "#Function\n",
    "def func(x):\n",
    "    return x**3 - x - 2\n",
    "\n",
    "def func_prime(x):\n",
    "    return 3*x**2 - 1\n",
    "\n",
    "# Initial guess\n",
    "initial_guess = 1.5\n",
    "\n",
    "# Call the method\n",
    "root_nr = newton_raphson(func, func_prime, initial_guess)\n",
    "print(\"\\nNewton-Raphson Root:\", root_nr)\n"
   ]
  },
  {
   "cell_type": "code",
   "execution_count": null,
   "id": "747159af-f969-422b-9e4b-9d23b37e911d",
   "metadata": {},
   "outputs": [],
   "source": []
  }
 ],
 "metadata": {
  "kernelspec": {
   "display_name": "Python 3 (ipykernel)",
   "language": "python",
   "name": "python3"
  },
  "language_info": {
   "codemirror_mode": {
    "name": "ipython",
    "version": 3
   },
   "file_extension": ".py",
   "mimetype": "text/x-python",
   "name": "python",
   "nbconvert_exporter": "python",
   "pygments_lexer": "ipython3",
   "version": "3.12.4"
  }
 },
 "nbformat": 4,
 "nbformat_minor": 5
}
